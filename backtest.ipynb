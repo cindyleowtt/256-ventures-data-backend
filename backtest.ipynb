{
 "cells": [
  {
   "cell_type": "code",
   "execution_count": 5,
   "metadata": {
    "Collapsed": "false"
   },
   "outputs": [],
   "source": [
    "import requests\n",
    "import pandas as pd\n",
    "import numpy as np\n",
    "from gemini import data, engine, helpers\n",
    "import plotly.graph_objects as go\n",
    "from plotly.subplots import make_subplots\n",
    "from bitmex_backtest import Backtest\n",
    "%matplotlib inline"
   ]
  },
  {
   "cell_type": "code",
   "execution_count": 2,
   "metadata": {
    "Collapsed": "false"
   },
   "outputs": [],
   "source": [
    "def collect_funding(params_dict={'symbol': 'XBTUSD', 'count': '100', 'reverse': 'false', 'start': '0'}):\n",
    "    # Update data from timestamp of last entry in file\n",
    "    api_call_url = 'https://www.bitmex.com/api/v1/funding?_format=csv'\n",
    "    filepath = 'data/Bitmex/funding.csv'\n",
    "    # Check if any parameters are applied\n",
    "    if bool(params_dict):\n",
    "        # Check for timestamp of last entry\n",
    "        timestamp_df = pd.read_csv(filepath, usecols=['timestamp'])\n",
    "        params_dict['startTime'] = timestamp_df.values[-1][0]\n",
    "        params_dict['start'] = '1'\n",
    "        for param in params_dict:\n",
    "            api_call_url += '&' + param + '=' + params_dict[param]\n",
    "        r = requests.get(api_call_url)\n",
    "        if r.status_code != 200:\n",
    "            r.raise_for_status()\n",
    "        csv_list = r.text.split('\\n')\n",
    "        with open(filepath, 'a') as csv_file:\n",
    "            # Append the data, but skip the headers\n",
    "            for row in csv_list[1:]:\n",
    "                csv_file.write('\\n' + row)\n",
    "    funding_rates_df = pd.read_csv(filepath, index_col=['timestamp'], parse_dates=True)\n",
    "    funding_rates_df.index = funding_rates_df.index.tz_localize(None)\n",
    "    return funding_rates_df\n",
    "\n",
    "funding_rates_df = collect_funding().resample('4H').bfill()\n",
    "funding_rates_df['date'] = funding_rates_df.index"
   ]
  },
  {
   "cell_type": "code",
   "execution_count": 9,
   "metadata": {
    "Collapsed": "false"
   },
   "outputs": [
    {
     "data": {
      "image/png": "[encoded data removed]",
      "text/plain": [
       "<Figure size 432x288 with 2 Axes>"
      ]
     },
     "metadata": {
      "needs_background": "light"
     },
     "output_type": "display_data"
    }
   ],
   "source": [
    "bt = Backtest()\n",
    "df = data.get_ltf_candles(\"USDT_BTC\", \"4-HOUR\", \"2019-10-12 04:00:00\", \"2019-12-02 23:00:00\").set_index('date')\n",
    "bt.df = df.merge(funding_rates_df, how='outer', on='date').dropna()\n",
    "bt.df.rename(columns={\"date\":\"t\",\"low\": \"L\", \"high\": \"H\", \"open\": \"O\", \"close\": \"C\", \"volume\":'V'}, inplace=True)\n",
    "bt.df['EMA'] = bt.df['fundingRate'].ewm(span=9, min_periods=9).mean()\n",
    "bt.sell_exit = bt.buy_entry = (bt.df['EMA'] < 0)\n",
    "bt.buy_exit = bt.sell_entry = (bt.df['EMA'] > 0)\n",
    "series = bt.run()\n",
    "bt.plot()"
   ]
  },
  {
   "cell_type": "code",
   "execution_count": 24,
   "metadata": {
    "Collapsed": "false"
   },
   "outputs": [],
   "source": [
    "def automated_backtest(ema_start=1, ema_end=2, iter_list=None):\n",
    "    \"\"\"ema_start (int) : Lower bound for the range of the Number of MA days to consider\n",
    "        ema_end (int) : Upper bound for the range of the Number of MA days to consider\n",
    "    \"\"\"\n",
    "    if not iter_list:\n",
    "        iter_list = [i for i in range(ema_start, ema_end+1)]\n",
    "    days = len(iter_list)\n",
    "    net_profit_df = pd.DataFrame({'ema_day':iter_list,'net_profit':[None]*days,'profit_factor':[None]*days})\n",
    "    for idx, i in enumerate(iter_list):\n",
    "        bt.df['EMA'] = bt.df['fundingRate'].ewm(span=i, min_periods=i).mean()\n",
    "        bt.sell_exit = bt.buy_entry = (bt.df['EMA'] < 0)\n",
    "        bt.buy_exit = bt.sell_entry = (bt.df['EMA'] > 0)\n",
    "        series = bt.run()\n",
    "        net_profit_df['net_profit'].iloc[idx] = series['total profit']\n",
    "        net_profit_df['profit_factor'].iloc[idx] = series['profit factor']\n",
    "    return net_profit_df"
   ]
  },
  {
   "cell_type": "code",
   "execution_count": 26,
   "metadata": {
    "Collapsed": "false"
   },
   "outputs": [
    {
     "data": {
      "text/html": [
       "<div>\n",
       "<style scoped>\n",
       "    .dataframe tbody tr th:only-of-type {\n",
       "        vertical-align: middle;\n",
       "    }\n",
       "\n",
       "    .dataframe tbody tr th {\n",
       "        vertical-align: top;\n",
       "    }\n",
       "\n",
       "    .dataframe thead th {\n",
       "        text-align: right;\n",
       "    }\n",
       "</style>\n",
       "<table border=\"1\" class=\"dataframe\">\n",
       "  <thead>\n",
       "    <tr style=\"text-align: right;\">\n",
       "      <th></th>\n",
       "      <th>ema_day</th>\n",
       "      <th>net_profit</th>\n",
       "      <th>profit_factor</th>\n",
       "    </tr>\n",
       "  </thead>\n",
       "  <tbody>\n",
       "    <tr>\n",
       "      <td>0</td>\n",
       "      <td>7</td>\n",
       "      <td>6291.22600000</td>\n",
       "      <td>2.11500000</td>\n",
       "    </tr>\n",
       "    <tr>\n",
       "      <td>1</td>\n",
       "      <td>8</td>\n",
       "      <td>5341.15000000</td>\n",
       "      <td>2.07300000</td>\n",
       "    </tr>\n",
       "    <tr>\n",
       "      <td>2</td>\n",
       "      <td>9</td>\n",
       "      <td>4285.77600000</td>\n",
       "      <td>1.79100000</td>\n",
       "    </tr>\n",
       "    <tr>\n",
       "      <td>3</td>\n",
       "      <td>10</td>\n",
       "      <td>5685.41100000</td>\n",
       "      <td>2.36100000</td>\n",
       "    </tr>\n",
       "    <tr>\n",
       "      <td>4</td>\n",
       "      <td>11</td>\n",
       "      <td>6344.61100000</td>\n",
       "      <td>2.74400000</td>\n",
       "    </tr>\n",
       "    <tr>\n",
       "      <td>5</td>\n",
       "      <td>12</td>\n",
       "      <td>6359.56100000</td>\n",
       "      <td>2.83000000</td>\n",
       "    </tr>\n",
       "    <tr>\n",
       "      <td>6</td>\n",
       "      <td>13</td>\n",
       "      <td>5201.61900000</td>\n",
       "      <td>2.50000000</td>\n",
       "    </tr>\n",
       "    <tr>\n",
       "      <td>7</td>\n",
       "      <td>14</td>\n",
       "      <td>4923.73800000</td>\n",
       "      <td>2.44400000</td>\n",
       "    </tr>\n",
       "    <tr>\n",
       "      <td>8</td>\n",
       "      <td>15</td>\n",
       "      <td>6245.41500000</td>\n",
       "      <td>3.92700000</td>\n",
       "    </tr>\n",
       "    <tr>\n",
       "      <td>9</td>\n",
       "      <td>16</td>\n",
       "      <td>6474.56500000</td>\n",
       "      <td>4.27600000</td>\n",
       "    </tr>\n",
       "    <tr>\n",
       "      <td>10</td>\n",
       "      <td>17</td>\n",
       "      <td>6588.57500000</td>\n",
       "      <td>4.49500000</td>\n",
       "    </tr>\n",
       "    <tr>\n",
       "      <td>11</td>\n",
       "      <td>18</td>\n",
       "      <td>6496.34300000</td>\n",
       "      <td>10.22700000</td>\n",
       "    </tr>\n",
       "    <tr>\n",
       "      <td>12</td>\n",
       "      <td>19</td>\n",
       "      <td>6647.62800000</td>\n",
       "      <td>11.87800000</td>\n",
       "    </tr>\n",
       "    <tr>\n",
       "      <td>13</td>\n",
       "      <td>20</td>\n",
       "      <td>7115.51500000</td>\n",
       "      <td>12.21600000</td>\n",
       "    </tr>\n",
       "  </tbody>\n",
       "</table>\n",
       "</div>"
      ],
      "text/plain": [
       "    ema_day    net_profit profit_factor\n",
       "0         7 6291.22600000    2.11500000\n",
       "1         8 5341.15000000    2.07300000\n",
       "2         9 4285.77600000    1.79100000\n",
       "3        10 5685.41100000    2.36100000\n",
       "4        11 6344.61100000    2.74400000\n",
       "5        12 6359.56100000    2.83000000\n",
       "6        13 5201.61900000    2.50000000\n",
       "7        14 4923.73800000    2.44400000\n",
       "8        15 6245.41500000    3.92700000\n",
       "9        16 6474.56500000    4.27600000\n",
       "10       17 6588.57500000    4.49500000\n",
       "11       18 6496.34300000   10.22700000\n",
       "12       19 6647.62800000   11.87800000\n",
       "13       20 7115.51500000   12.21600000"
      ]
     },
     "execution_count": 26,
     "metadata": {},
     "output_type": "execute_result"
    }
   ],
   "source": [
    "bt = Backtest()\n",
    "df = data.get_ltf_candles(\"USDT_BTC\", \"4-HOUR\", \"2019-07-12 04:00:00\", \"2019-12-02 23:00:00\").set_index('date')\n",
    "bt.df = df.merge(funding_rates_df, how='outer', on='date').dropna()\n",
    "bt.df.rename(columns={\"date\":\"t\",\"low\": \"L\", \"high\": \"H\", \"open\": \"O\", \"close\": \"C\", \"volume\":'V'}, inplace=True)\n",
    "#automated_backtest(iter_list=[9,15,18])\n",
    "automated_backtest(ema_start=7, ema_end=20)"
   ]
  },
  {
   "cell_type": "code",
   "execution_count": null,
   "metadata": {
    "Collapsed": "false"
   },
   "outputs": [],
   "source": []
  }
 ],
 "metadata": {
  "kernelspec": {
   "display_name": "Python 3",
   "language": "python",
   "name": "python3"
  },
  "language_info": {
   "codemirror_mode": {
    "name": "ipython",
    "version": 3
   },
   "file_extension": ".py",
   "mimetype": "text/x-python",
   "name": "python",
   "nbconvert_exporter": "python",
   "pygments_lexer": "ipython3",
   "version": "3.7.4"
  }
 },
 "nbformat": 4,
 "nbformat_minor": 4
}
