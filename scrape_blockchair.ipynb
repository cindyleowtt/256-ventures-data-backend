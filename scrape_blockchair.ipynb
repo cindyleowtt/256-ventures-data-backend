{
 "cells": [
  {
   "cell_type": "code",
   "execution_count": 14,
   "metadata": {
    "Collapsed": "false"
   },
   "outputs": [],
   "source": [
    "import os\n",
    "import datetime\n",
    "\n",
    "import gzip\n",
    "import pandas as pd\n",
    "from urllib.request import urlopen\n",
    "from urllib.error import HTTPError\n",
    "from urllib.error import URLError\n",
    "from bs4 import BeautifulSoup"
   ]
  },
  {
   "cell_type": "markdown",
   "metadata": {
    "Collapsed": "false"
   },
   "source": [
    "# Pull all historical data"
   ]
  },
  {
   "cell_type": "code",
   "execution_count": 8,
   "metadata": {
    "Collapsed": "false"
   },
   "outputs": [],
   "source": [
    "try:\n",
    "    html = urlopen('https://gz.blockchair.com/bitcoin/blocks/?fbclid=IwAR2DtTOZeTeLCMVQC-TugYFBlDtFIijZGoSISG1RYbE5fmmGem15hpdCVo4')\n",
    "except HTTPError as e:\n",
    "    print(e)\n",
    "except URLError as e:\n",
    "    print('URLError: The server could not be found!')"
   ]
  },
  {
   "cell_type": "code",
   "execution_count": 9,
   "metadata": {
    "Collapsed": "false"
   },
   "outputs": [],
   "source": [
    "blockchair_bs = BeautifulSoup(html, 'html.parser')"
   ]
  },
  {
   "cell_type": "code",
   "execution_count": 10,
   "metadata": {
    "Collapsed": "false"
   },
   "outputs": [],
   "source": [
    "file_url_list = blockchair_bs.pre.find_all('a')"
   ]
  },
  {
   "cell_type": "code",
   "execution_count": 11,
   "metadata": {
    "Collapsed": "false"
   },
   "outputs": [],
   "source": [
    "master_filepath = 'data/Blockchair/blockchair.tsv'\n",
    "\n",
    "# i=0 does not refer to a valid link, so start from i=1\n",
    "for i in range(1,len(file_url_list)):\n",
    "    file_url = file_url_list[i].attrs['href']\n",
    "    download_url = 'https://gz.blockchair.com/bitcoin/blocks/' + file_url\n",
    "    \n",
    "    # Download the file from `url` and save it locally under `filename`:\n",
    "    filename = \"data/Blockchair/\" + file_url[:-3]\n",
    "    \n",
    "    with urlopen(download_url) as response, open(filename, 'wb') as file_out:\n",
    "        file_out.write(gzip.decompress(response.read()))\n",
    "\n",
    "    # Create master file at the first iteration\n",
    "    if i == 1:\n",
    "        with open(master_filepath, 'w') as final_tsv_file:\n",
    "            with open(filename, 'r') as tsv_file:\n",
    "                for row in tsv_file:\n",
    "                    final_tsv_file.write(row)\n",
    "    \n",
    "    else:\n",
    "        # Append downloaded file to master file\n",
    "        with open(master_filepath, 'a') as final_tsv_file: \n",
    "            with open(filename, 'r') as tsv_file:\n",
    "                for row in tsv_file:\n",
    "                    if row[:2] == 'id':\n",
    "                        final_tsv_file.write('\\n')\n",
    "                    else:\n",
    "                        final_tsv_file.write(row)\n",
    "    \n",
    "    # Delete file at 'filename'\n",
    "    try:\n",
    "        os.remove(filename)\n",
    "    except OSError as e:\n",
    "        print (\"Error: %s - %s.\" % (e.filename, e.strerror))"
   ]
  },
  {
   "cell_type": "code",
   "execution_count": 15,
   "metadata": {
    "Collapsed": "false"
   },
   "outputs": [
    {
     "name": "stderr",
     "output_type": "stream",
     "text": [
      "C:\\Users\\laide\\Miniconda3\\envs\\venture_256\\lib\\site-packages\\IPython\\core\\interactiveshell.py:3058: DtypeWarning: Columns (8) have mixed types. Specify dtype option on import or set low_memory=False.\n",
      "  interactivity=interactivity, compiler=compiler, result=result)\n"
     ]
    }
   ],
   "source": [
    "# Convert tsv file to csv\n",
    "blockchair_df = pd.read_csv(master_filepath, sep='\\t', \n",
    "                            dtype={'version_bits':'object','chainwork':'object'}, index_col=['id'])"
   ]
  },
  {
   "cell_type": "code",
   "execution_count": 40,
   "metadata": {
    "Collapsed": "false"
   },
   "outputs": [],
   "source": [
    "# Fix decimal place of certain columns\n",
    "blockchair_df[['output_total','generation','reward']] = blockchair_df[['output_total','generation','reward']]*1e-8"
   ]
  },
  {
   "cell_type": "code",
   "execution_count": 42,
   "metadata": {
    "Collapsed": "false"
   },
   "outputs": [],
   "source": [
    "blockchair_df.to_csv('data/Blockchair/blockchair.csv')"
   ]
  },
  {
   "cell_type": "markdown",
   "metadata": {
    "Collapsed": "false"
   },
   "source": [
    "# Daily Update"
   ]
  },
  {
   "cell_type": "code",
   "execution_count": 43,
   "metadata": {
    "Collapsed": "false"
   },
   "outputs": [],
   "source": [
    "try:\n",
    "    html = urlopen('https://gz.blockchair.com/bitcoin/blocks/?fbclid=IwAR2DtTOZeTeLCMVQC-TugYFBlDtFIijZGoSISG1RYbE5fmmGem15hpdCVo4')\n",
    "except HTTPError as e:\n",
    "    print(e)\n",
    "except URLError as e:\n",
    "    print('URLError: The server could not be found!')\n",
    "\n",
    "blockchair_bs = BeautifulSoup(html, 'html.parser')\n",
    "file_url_list = blockchair_bs.pre.find_all('a')"
   ]
  },
  {
   "cell_type": "code",
   "execution_count": 63,
   "metadata": {
    "Collapsed": "false"
   },
   "outputs": [
    {
     "data": {
      "text/plain": [
       "(158, 35)"
      ]
     },
     "execution_count": 63,
     "metadata": {},
     "output_type": "execute_result"
    }
   ],
   "source": [
    "for row in range(blockchair_df.shape[0]):\n",
    "    blockchair_df"
   ]
  },
  {
   "cell_type": "code",
   "execution_count": 66,
   "metadata": {
    "Collapsed": "false"
   },
   "outputs": [],
   "source": [
    "# This scrapes for the last entry in the download page\n",
    "file_url = file_url_list[-1].attrs['href']\n",
    "download_url = 'https://gz.blockchair.com/bitcoin/blocks/' + file_url\n",
    "\n",
    "# Download the file from `url` and save it locally under `filename`:\n",
    "filename = \"data/Blockchair/\" + file_url[:-3]\n",
    "\n",
    "with urlopen(download_url) as response, open(filename, 'wb') as file_out:\n",
    "    file_out.write(gzip.decompress(response.read()))\n",
    "\n",
    "# Read as csv before appending\n",
    "new_filename = filename[:-3]+'csv'\n",
    "blockchair_df = pd.read_csv(filename, sep='\\t', \n",
    "                            dtype={'version_bits':'object','chainwork':'object'}, index_col=['id'])\n",
    "\n",
    "# Fix decimal place of certain columns\n",
    "blockchair_df[['output_total','generation','reward']] = blockchair_df[['output_total','generation','reward']]*1e-8\n",
    "\n",
    "# Append\n",
    "blockchair_df.to_csv('data/Blockchair/blockchair.csv', mode='a', header=False)\n",
    "\n",
    "# Delete file at 'filename'\n",
    "try:\n",
    "    os.remove(filename)\n",
    "except OSError as e:\n",
    "    print (\"Error: %s - %s.\" % (e.filename, e.strerror))"
   ]
  },
  {
   "cell_type": "markdown",
   "metadata": {
    "Collapsed": "false"
   },
   "source": [
    "# Check"
   ]
  },
  {
   "cell_type": "code",
   "execution_count": 99,
   "metadata": {
    "Collapsed": "false"
   },
   "outputs": [],
   "source": [
    "# Check if there are duplicated ids\n",
    "blockchair_df = pd.read_csv('data/Blockchair/blockchair.csv', usecols=['id'], index_col=['id'])\n",
    "assert blockchair_df.index.duplicated().sum() == 0"
   ]
  }
 ],
 "metadata": {
  "kernelspec": {
   "display_name": "Python 3",
   "language": "python",
   "name": "python3"
  },
  "language_info": {
   "codemirror_mode": {
    "name": "ipython",
    "version": 3
   },
   "file_extension": ".py",
   "mimetype": "text/x-python",
   "name": "python",
   "nbconvert_exporter": "python",
   "pygments_lexer": "ipython3",
   "version": "3.7.3"
  }
 },
 "nbformat": 4,
 "nbformat_minor": 4
}
