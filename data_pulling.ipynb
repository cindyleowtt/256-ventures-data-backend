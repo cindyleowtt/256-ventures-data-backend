{
 "cells": [
  {
   "cell_type": "code",
   "execution_count": 2,
   "metadata": {
    "Collapsed": "false"
   },
   "outputs": [],
   "source": [
    "import requests\n",
    "import json\n",
    "import csv\n",
    "import os\n",
    "import datetime\n",
    "import pandas as pd\n",
    "import logging\n",
    "import boto3\n",
    "from botocore.exceptions import ClientError"
   ]
  },
  {
   "cell_type": "code",
   "execution_count": 30,
   "metadata": {
    "Collapsed": "false"
   },
   "outputs": [],
   "source": [
    "from bitmex_websocket import BitMEXWebsocket\n",
    "ws = BitMEXWebsocket(endpoint=\"wss://www.bitmex.com/realtime?subscribe=liquidation:XBTUSD\", symbol=\"XBTUSD\", api_key=None, api_secret=None)"
   ]
  },
  {
   "cell_type": "code",
   "execution_count": 35,
   "metadata": {
    "Collapsed": "false",
    "collapsed": true,
    "jupyter": {
     "outputs_hidden": true
    }
   },
   "outputs": [
    {
     "data": {
      "text/plain": [
       "[{'rootSymbol': 'A50',\n",
       "  'currency': 'XBt',\n",
       "  'volume24h': 0,\n",
       "  'turnover24h': 0,\n",
       "  'openInterest': 0,\n",
       "  'openValue': 0},\n",
       " {'rootSymbol': 'ADA',\n",
       "  'currency': 'XBt',\n",
       "  'volume24h': 325023116,\n",
       "  'turnover24h': 164350575460,\n",
       "  'openInterest': 203942774,\n",
       "  'openValue': 105030528610},\n",
       " {'rootSymbol': 'BCH',\n",
       "  'currency': 'XBt',\n",
       "  'volume24h': 15134,\n",
       "  'turnover24h': 42773709000,\n",
       "  'openInterest': 19426,\n",
       "  'openValue': 55694342000},\n",
       " {'rootSymbol': 'BFX',\n",
       "  'currency': 'XBt',\n",
       "  'volume24h': 0,\n",
       "  'turnover24h': 0,\n",
       "  'openInterest': 0,\n",
       "  'openValue': 0},\n",
       " {'rootSymbol': 'BLOCKS',\n",
       "  'currency': 'XBt',\n",
       "  'volume24h': 0,\n",
       "  'turnover24h': 0,\n",
       "  'openInterest': 0,\n",
       "  'openValue': 0},\n",
       " {'rootSymbol': 'BVOL',\n",
       "  'currency': 'XBt',\n",
       "  'volume24h': 0,\n",
       "  'turnover24h': 0,\n",
       "  'openInterest': 0,\n",
       "  'openValue': 0},\n",
       " {'rootSymbol': 'COIN',\n",
       "  'currency': 'XBt',\n",
       "  'volume24h': 0,\n",
       "  'turnover24h': 0,\n",
       "  'openInterest': 0,\n",
       "  'openValue': 0},\n",
       " {'rootSymbol': 'DAO',\n",
       "  'currency': 'XBt',\n",
       "  'volume24h': 0,\n",
       "  'turnover24h': 0,\n",
       "  'openInterest': 0,\n",
       "  'openValue': 0},\n",
       " {'rootSymbol': 'DASH',\n",
       "  'currency': 'XBt',\n",
       "  'volume24h': 0,\n",
       "  'turnover24h': 0,\n",
       "  'openInterest': 0,\n",
       "  'openValue': 0},\n",
       " {'rootSymbol': 'EOS',\n",
       "  'currency': 'XBt',\n",
       "  'volume24h': 3114206,\n",
       "  'turnover24h': 117165073900,\n",
       "  'openInterest': 2035903,\n",
       "  'openValue': 79054113490},\n",
       " {'rootSymbol': 'ETC',\n",
       "  'currency': 'XBt',\n",
       "  'volume24h': 0,\n",
       "  'turnover24h': 0,\n",
       "  'openInterest': 0,\n",
       "  'openValue': 0},\n",
       " {'rootSymbol': 'ETH',\n",
       "  'currency': 'XBt',\n",
       "  'volume24h': 179656118,\n",
       "  'turnover24h': 3290662470475,\n",
       "  'openInterest': 44276542,\n",
       "  'openValue': 1274652296522},\n",
       " {'rootSymbol': 'FCT',\n",
       "  'currency': 'XBt',\n",
       "  'volume24h': 0,\n",
       "  'turnover24h': 0,\n",
       "  'openInterest': 0,\n",
       "  'openValue': 0},\n",
       " {'rootSymbol': 'GNO',\n",
       "  'currency': 'XBt',\n",
       "  'volume24h': 0,\n",
       "  'turnover24h': 0,\n",
       "  'openInterest': 0,\n",
       "  'openValue': 0},\n",
       " {'rootSymbol': 'LSK',\n",
       "  'currency': 'XBt',\n",
       "  'volume24h': 0,\n",
       "  'turnover24h': 0,\n",
       "  'openInterest': 0,\n",
       "  'openValue': 0},\n",
       " {'rootSymbol': 'LTC',\n",
       "  'currency': 'XBt',\n",
       "  'volume24h': 118549,\n",
       "  'turnover24h': 82143267500,\n",
       "  'openInterest': 113375,\n",
       "  'openValue': 80190137500},\n",
       " {'rootSymbol': 'NEO',\n",
       "  'currency': 'XBt',\n",
       "  'volume24h': 0,\n",
       "  'turnover24h': 0,\n",
       "  'openInterest': 0,\n",
       "  'openValue': 0},\n",
       " {'rootSymbol': 'QTUM',\n",
       "  'currency': 'XBt',\n",
       "  'volume24h': 0,\n",
       "  'turnover24h': 0,\n",
       "  'openInterest': 0,\n",
       "  'openValue': 0},\n",
       " {'rootSymbol': 'REP',\n",
       "  'currency': 'XBt',\n",
       "  'volume24h': 0,\n",
       "  'turnover24h': 0,\n",
       "  'openInterest': 0,\n",
       "  'openValue': 0},\n",
       " {'rootSymbol': 'SEGWIT',\n",
       "  'currency': 'XBt',\n",
       "  'volume24h': 0,\n",
       "  'turnover24h': 0,\n",
       "  'openInterest': 0,\n",
       "  'openValue': 0},\n",
       " {'rootSymbol': 'SNT',\n",
       "  'currency': 'XBt',\n",
       "  'volume24h': 0,\n",
       "  'turnover24h': 0,\n",
       "  'openInterest': 0,\n",
       "  'openValue': 0},\n",
       " {'rootSymbol': 'TRX',\n",
       "  'currency': 'XBt',\n",
       "  'volume24h': 439188008,\n",
       "  'turnover24h': 83866579862,\n",
       "  'openInterest': 376663873,\n",
       "  'openValue': 74202782981},\n",
       " {'rootSymbol': 'WIN',\n",
       "  'currency': 'XBt',\n",
       "  'volume24h': 0,\n",
       "  'turnover24h': 0,\n",
       "  'openInterest': 0,\n",
       "  'openValue': 0},\n",
       " {'rootSymbol': 'XBC',\n",
       "  'currency': 'XBt',\n",
       "  'volume24h': 0,\n",
       "  'turnover24h': 0,\n",
       "  'openInterest': 0,\n",
       "  'openValue': 0},\n",
       " {'rootSymbol': 'XBJ',\n",
       "  'currency': 'XBt',\n",
       "  'volume24h': 0,\n",
       "  'turnover24h': 0,\n",
       "  'openInterest': 0,\n",
       "  'openValue': 0},\n",
       " {'rootSymbol': 'XBT',\n",
       "  'currency': 'XBt',\n",
       "  'volume24h': 3044732443,\n",
       "  'turnover24h': 38134478009956,\n",
       "  'openInterest': 1015109742,\n",
       "  'openValue': 12309463510025},\n",
       " {'rootSymbol': 'XBU',\n",
       "  'currency': 'XBt',\n",
       "  'volume24h': 0,\n",
       "  'turnover24h': 0,\n",
       "  'openInterest': 0,\n",
       "  'openValue': 0},\n",
       " {'rootSymbol': 'XLM',\n",
       "  'currency': 'XBt',\n",
       "  'volume24h': 0,\n",
       "  'turnover24h': 0,\n",
       "  'openInterest': 0,\n",
       "  'openValue': 0},\n",
       " {'rootSymbol': 'XLT',\n",
       "  'currency': 'XBt',\n",
       "  'volume24h': 0,\n",
       "  'turnover24h': 0,\n",
       "  'openInterest': 0,\n",
       "  'openValue': 0},\n",
       " {'rootSymbol': 'XMR',\n",
       "  'currency': 'XBt',\n",
       "  'volume24h': 0,\n",
       "  'turnover24h': 0,\n",
       "  'openInterest': 0,\n",
       "  'openValue': 0},\n",
       " {'rootSymbol': 'XRP',\n",
       "  'currency': 'XBt',\n",
       "  'volume24h': 102041154,\n",
       "  'turnover24h': 347136336275,\n",
       "  'openInterest': 116184854,\n",
       "  'openValue': 395841797578},\n",
       " {'rootSymbol': 'XTZ',\n",
       "  'currency': 'XBt',\n",
       "  'volume24h': 0,\n",
       "  'turnover24h': 0,\n",
       "  'openInterest': 0,\n",
       "  'openValue': 0},\n",
       " {'rootSymbol': 'ZEC',\n",
       "  'currency': 'XBt',\n",
       "  'volume24h': 0,\n",
       "  'turnover24h': 0,\n",
       "  'openInterest': 0,\n",
       "  'openValue': 0},\n",
       " {'rootSymbol': 'Total',\n",
       "  'currency': 'XBt',\n",
       "  'volume24h': None,\n",
       "  'turnover24h': 42262576022428,\n",
       "  'openInterest': None,\n",
       "  'openValue': 14374129508706}]"
      ]
     },
     "execution_count": 35,
     "metadata": {},
     "output_type": "execute_result"
    }
   ],
   "source": [
    "r = requests.get('https://www.bitmex.com/api/v1/stats')\n",
    "if r.status_code != 200:\n",
    "    print(r.status_code)\n",
    "r.json()"
   ]
  },
  {
   "cell_type": "markdown",
   "metadata": {
    "Collapsed": "false"
   },
   "source": [
    "# Bitmex\n",
    "https://www.bitmex.com/api/explorer/#/\n",
    "\n",
    "use XBTUSD as currency"
   ]
  },
  {
   "cell_type": "markdown",
   "metadata": {
    "Collapsed": "true"
   },
   "source": [
    "## 1. Download historical data"
   ]
  },
  {
   "cell_type": "code",
   "execution_count": 48,
   "metadata": {
    "Collapsed": "false"
   },
   "outputs": [],
   "source": [
    "now = datetime.datetime.now().isoformat()\n",
    "bitmex_params = [('funding',{'symbol':'XBTUSD','count':'100','reverse':'false','start':'0','endTime':now}),    # funding_rate\n",
    "                 #('liquidation',{}),\n",
    "                 ('stats/history',{}),    # volume\n",
    "                 ('stats',{}),    # openInterest, openValue \"rootSymbol\" -- call \"XBT\" and \"ETH\"\n",
    "                ]\n",
    "\n",
    "# Initialise historical data. This will not overwrite files of the same name in the target folder so be sure to delete them first if they exist.\n",
    "def get_historical_bitmex(bitmex_params):\n",
    "    sample = 'sample'\n",
    "    for item in bitmex_params:\n",
    "        endpoint, params_dict = item\n",
    "        filepath = 'data/Bitmex/' + endpoint.replace('/', '_') + '.csv'\n",
    "        \n",
    "        if os.path.isfile(filepath):\n",
    "            print('Please delete or rename previous file of same name.')\n",
    "            raise\n",
    "        \n",
    "        while sample!='':\n",
    "            api_call_url = 'https://www.bitmex.com/api/v1/' + endpoint + '?_format=csv'\n",
    "            # Check if any parameters are applied\n",
    "            if bool(params_dict):\n",
    "                for param in params_dict:\n",
    "                    api_call_url += '&' + param + '=' + params_dict[param] \n",
    "            r = requests.get(api_call_url)\n",
    "            if r.status_code != 200:\n",
    "                print(r.status_code)\n",
    "                return\n",
    "            csv_list = r.text.split('\\n')\n",
    "            \n",
    "            # Create a new file only if one does not exist, and append the headers\n",
    "            if not os.path.isfile(filepath):\n",
    "                with open(filepath, 'w') as csv_file:\n",
    "                    for row in csv_list[0]:\n",
    "                        csv_file.write(row)\n",
    "            \n",
    "            with open(filepath, 'a') as csv_file:\n",
    "                # Append the data, but skip the headers\n",
    "                for row in csv_list[1:]:\n",
    "                    csv_file.write('\\n'+row)\n",
    "            \n",
    "            if bool(params_dict):\n",
    "                params_dict['start'] = str(int(params_dict['start']) + int(params_dict['count']))\n",
    "                sample = r.text[:5]\n",
    "            else:\n",
    "                sample = ''"
   ]
  },
  {
   "cell_type": "code",
   "execution_count": 49,
   "metadata": {
    "Collapsed": "false"
   },
   "outputs": [],
   "source": [
    "get_historical_bitmex(bitmex_params)"
   ]
  },
  {
   "cell_type": "markdown",
   "metadata": {
    "Collapsed": "false"
   },
   "source": [
    "## 2. Update data"
   ]
  },
  {
   "cell_type": "code",
   "execution_count": 46,
   "metadata": {
    "Collapsed": "false"
   },
   "outputs": [],
   "source": [
    "# Ref: https://www.bitmex.com/api/explorer/\n",
    "# Parameters for each API call. All variables must be in string format\n",
    "bitmex_params = [('funding',{'symbol':'XBTUSD','count':'100','reverse':'false','start':'0'}),\n",
    "                 #('liquidation',{}),\n",
    "                 ('stats/history',{}),\n",
    "                ]\n",
    "\n",
    "def update_bitmex(bitmex_params):\n",
    "    # Update data from timestamp of last entry in file\n",
    "    for item in bitmex_params:\n",
    "        endpoint, params_dict = item\n",
    "        filepath = 'data/Bitmex/' + endpoint + '.csv'\n",
    "        api_call_url = 'https://www.bitmex.com/api/v1/' + endpoint + '?_format=csv'\n",
    "        \n",
    "        # Check if any parameters are applied\n",
    "        if bool(params_dict):\n",
    "            # Check for timestamp of last entry\n",
    "            if endpoint == 'funding':\n",
    "                timestamp_df = pd.read_csv(filepath, usecols=['timestamp'])\n",
    "            elif endpoint == 'stats/history':\n",
    "                timestamp_df = pd.read_csv(filepath, usecols=['date'])\n",
    "            params_dict['startTime'] = timestamp_df.values[-1][0]\n",
    "            params_dict['start'] = '1'\n",
    "            \n",
    "            for param in params_dict:\n",
    "                api_call_url += '&' + param + '=' + params_dict[param] \n",
    "\n",
    "        r = requests.get(api_call_url)\n",
    "        if r.status_code != 200:\n",
    "            print(r.status_code)\n",
    "            break\n",
    "        \n",
    "        csv_list = r.text.split('\\n')\n",
    "        with open(filepath, 'a') as csv_file:\n",
    "            # Append the data, but skip the headers\n",
    "            for row in csv_list[1:]:\n",
    "                csv_file.write(row + '\\n')"
   ]
  },
  {
   "cell_type": "code",
   "execution_count": 47,
   "metadata": {
    "Collapsed": "false",
    "jupyter": {
     "source_hidden": true
    }
   },
   "outputs": [],
   "source": [
    "update_bitmex(bitmex_params)"
   ]
  },
  {
   "cell_type": "markdown",
   "metadata": {
    "Collapsed": "true"
   },
   "source": [
    "# Coinmetrics\n",
    "https://docs.coinmetrics.io/api/v2/"
   ]
  },
  {
   "cell_type": "markdown",
   "metadata": {
    "Collapsed": "true"
   },
   "source": [
    "## a) Get historical data"
   ]
  },
  {
   "cell_type": "code",
   "execution_count": 146,
   "metadata": {
    "Collapsed": "false"
   },
   "outputs": [],
   "source": [
    "# Get full data\n",
    "metrics = 'AdrActCnt,BlkCnt,BlkSizeByte,BlkSizeMeanByte,CapMVRVCur,CapMrktCurUSD,CapRealUSD,DiffMean,FeeMeanNtv,FeeMeanUSD,FeeMedNtv,FeeMedUSD,FeeTotNtv,FeeTotUSD,IssContNtv,IssContPctAnn,IssContUSD,IssTotNtv,IssTotUSD,NVTAdj,NVTAdj90,PriceBTC,PriceUSD,ROI1yr,ROI30d,SplyCur,TxCnt,TxTfrCnt,TxTfrValAdjNtv,TxTfrValAdjUSD,TxTfrValMeanNtv,TxTfrValMeanUSD,TxTfrValMedNtv,TxTfrValMedUSD,TxTfrValNtv,TxTfrValUSD,VtyDayRet180d,VtyDayRet30d,VtyDayRet60d'\n",
    "r = requests.get('https://community-api.coinmetrics.io/v2/assets/btc/metricdata.csv?metrics='+ metrics)\n",
    "if r.status_code != 200:\n",
    "    print(r.status_code)\n",
    "    raise"
   ]
  },
  {
   "cell_type": "code",
   "execution_count": 147,
   "metadata": {
    "Collapsed": "false"
   },
   "outputs": [],
   "source": [
    "csv_list = r.text.split('\\n')\n",
    "with open('data/Coinmetrics/Coinmetrics_btc.csv', 'w') as csv_file:\n",
    "    for row in csv_list:\n",
    "        csv_file.write(row)"
   ]
  },
  {
   "cell_type": "markdown",
   "metadata": {
    "Collapsed": "true"
   },
   "source": [
    "## b) Update daily"
   ]
  },
  {
   "cell_type": "code",
   "execution_count": 3,
   "metadata": {
    "Collapsed": "false"
   },
   "outputs": [],
   "source": [
    "# Get timestamp of last entry\n",
    "filepath = 'data/Coinmetrics/Coinmetrics_btc.csv'\n",
    "timestamp_df = pd.read_csv(filepath, usecols=['time'])\n",
    "timestamp_df = timestamp_df.astype('datetime64')\n",
    "start_time = str(timestamp_df.values[-1][0]+10000000)\n",
    "start = '&start=' + str(start_time)[:23] + 'Z'\n",
    "\n",
    "metrics = 'AdrActCnt,BlkCnt,BlkSizeByte,BlkSizeMeanByte,CapMVRVCur,CapMrktCurUSD,CapRealUSD,DiffMean,FeeMeanNtv,FeeMeanUSD,FeeMedNtv,FeeMedUSD,FeeTotNtv,FeeTotUSD,IssContNtv,IssContPctAnn,IssContUSD,IssTotNtv,IssTotUSD,NVTAdj,NVTAdj90,PriceBTC,PriceUSD,ROI1yr,ROI30d,SplyCur,TxCnt,TxTfrCnt,TxTfrValAdjNtv,TxTfrValAdjUSD,TxTfrValMeanNtv,TxTfrValMeanUSD,TxTfrValMedNtv,TxTfrValMedUSD,TxTfrValNtv,TxTfrValUSD,VtyDayRet180d,VtyDayRet30d,VtyDayRet60d' #,TxTfr\n",
    "r = requests.get('https://community-api.coinmetrics.io/v2/assets/btc/metricdata.csv?metrics='+ metrics + start)\n",
    "if r.status_code != 200:\n",
    "    print(r.status_code)\n",
    "    raise\n",
    "csv_list = r.text.split('\\n')\n",
    "with open(filepath, 'a') as csv_file:\n",
    "    for row in csv_list[1:]:\n",
    "        csv_file.write(row)"
   ]
  },
  {
   "cell_type": "markdown",
   "metadata": {
    "Collapsed": "true"
   },
   "source": [
    "# Quandl\n",
    "https://www.quandl.com/tools/python"
   ]
  },
  {
   "cell_type": "code",
   "execution_count": 4,
   "metadata": {
    "Collapsed": "false"
   },
   "outputs": [],
   "source": [
    "import quandl"
   ]
  },
  {
   "cell_type": "markdown",
   "metadata": {
    "Collapsed": "false"
   },
   "source": [
    "## Get historical data"
   ]
  },
  {
   "cell_type": "code",
   "execution_count": 57,
   "metadata": {
    "Collapsed": "false"
   },
   "outputs": [
    {
     "name": "stderr",
     "output_type": "stream",
     "text": [
      "Error : Connection is already closed.\n",
      "error from callback <bound method BitMEXWebsocket.__on_error of <bitmex_websocket.BitMEXWebsocket object at 0x000002183B20BF98>>: Connection is already closed.\n",
      "Error : Connection is already closed.\n",
      "error from callback <bound method BitMEXWebsocket.__on_error of <bitmex_websocket.BitMEXWebsocket object at 0x000002183C03DF28>>: Connection is already closed.\n"
     ]
    }
   ],
   "source": [
    "for code in [\"BCHAIN/MIREV\",\"BCHAIN/DIFF\",\"BCHAIN/HRATE\",\"BCHAIN/TOTBC\",\"BCHAIN/TOUTV\"]:\n",
    "    data_df = quandl.get(code)\n",
    "    data_df.to_csv('data/Quandl/'+ code.replace('/','_')+'.csv')"
   ]
  },
  {
   "cell_type": "markdown",
   "metadata": {
    "Collapsed": "false"
   },
   "source": [
    "## Update data"
   ]
  },
  {
   "cell_type": "code",
   "execution_count": 5,
   "metadata": {
    "Collapsed": "false",
    "collapsed": true,
    "jupyter": {
     "outputs_hidden": true
    }
   },
   "outputs": [
    {
     "ename": "LimitExceededError",
     "evalue": "(Status 429) (Quandl Error QELx01) You have exceeded the anonymous user limit of 50 calls per day. To make more calls today, please register for a free Quandl account and then include your API key with your requests.",
     "output_type": "error",
     "traceback": [
      "\u001b[1;31m---------------------------------------------------------------------------\u001b[0m",
      "\u001b[1;31mLimitExceededError\u001b[0m                        Traceback (most recent call last)",
      "\u001b[1;32m<ipython-input-5-f65ae6c5ac36>\u001b[0m in \u001b[0;36m<module>\u001b[1;34m\u001b[0m\n\u001b[0;32m      3\u001b[0m     \u001b[0mfinal_timestamp\u001b[0m \u001b[1;33m=\u001b[0m \u001b[0mold_data_df\u001b[0m\u001b[1;33m.\u001b[0m\u001b[0mastype\u001b[0m\u001b[1;33m(\u001b[0m\u001b[1;34m'datetime64'\u001b[0m\u001b[1;33m)\u001b[0m\u001b[1;33m.\u001b[0m\u001b[0mvalues\u001b[0m\u001b[1;33m[\u001b[0m\u001b[1;33m-\u001b[0m\u001b[1;36m1\u001b[0m\u001b[1;33m]\u001b[0m \u001b[1;33m+\u001b[0m \u001b[0mpd\u001b[0m\u001b[1;33m.\u001b[0m\u001b[0mTimedelta\u001b[0m\u001b[1;33m(\u001b[0m\u001b[1;36m1\u001b[0m\u001b[1;33m,\u001b[0m \u001b[0munit\u001b[0m\u001b[1;33m=\u001b[0m\u001b[1;34m'd'\u001b[0m\u001b[1;33m)\u001b[0m\u001b[1;33m\u001b[0m\u001b[1;33m\u001b[0m\u001b[0m\n\u001b[0;32m      4\u001b[0m     \u001b[0mstart\u001b[0m \u001b[1;33m=\u001b[0m \u001b[0mstr\u001b[0m\u001b[1;33m(\u001b[0m\u001b[0mfinal_timestamp\u001b[0m\u001b[1;33m[\u001b[0m\u001b[1;36m0\u001b[0m\u001b[1;33m]\u001b[0m\u001b[1;33m)\u001b[0m\u001b[1;33m[\u001b[0m\u001b[1;33m:\u001b[0m\u001b[1;36m10\u001b[0m\u001b[1;33m]\u001b[0m\u001b[1;33m\u001b[0m\u001b[1;33m\u001b[0m\u001b[0m\n\u001b[1;32m----> 5\u001b[1;33m     \u001b[0mdata_df\u001b[0m \u001b[1;33m=\u001b[0m \u001b[0mquandl\u001b[0m\u001b[1;33m.\u001b[0m\u001b[0mget\u001b[0m\u001b[1;33m(\u001b[0m\u001b[0mcode\u001b[0m\u001b[1;33m,\u001b[0m \u001b[0mstart_date\u001b[0m\u001b[1;33m=\u001b[0m\u001b[0mstart\u001b[0m\u001b[1;33m)\u001b[0m\u001b[1;33m\u001b[0m\u001b[1;33m\u001b[0m\u001b[0m\n\u001b[0m\u001b[0;32m      6\u001b[0m     \u001b[1;31m# Append\u001b[0m\u001b[1;33m\u001b[0m\u001b[1;33m\u001b[0m\u001b[1;33m\u001b[0m\u001b[0m\n\u001b[0;32m      7\u001b[0m     \u001b[0mdata_df\u001b[0m\u001b[1;33m.\u001b[0m\u001b[0mto_csv\u001b[0m\u001b[1;33m(\u001b[0m\u001b[1;34m'data/Quandl/'\u001b[0m\u001b[1;33m+\u001b[0m \u001b[0mcode\u001b[0m\u001b[1;33m.\u001b[0m\u001b[0mreplace\u001b[0m\u001b[1;33m(\u001b[0m\u001b[1;34m'/'\u001b[0m\u001b[1;33m,\u001b[0m\u001b[1;34m'_'\u001b[0m\u001b[1;33m)\u001b[0m\u001b[1;33m,\u001b[0m \u001b[0mmode\u001b[0m\u001b[1;33m=\u001b[0m\u001b[1;34m'a'\u001b[0m\u001b[1;33m,\u001b[0m \u001b[0mheader\u001b[0m\u001b[1;33m=\u001b[0m\u001b[1;32mFalse\u001b[0m\u001b[1;33m)\u001b[0m\u001b[1;33m\u001b[0m\u001b[1;33m\u001b[0m\u001b[0m\n",
      "\u001b[1;32m~\\Miniconda3\\envs\\venture_256\\lib\\site-packages\\quandl\\get.py\u001b[0m in \u001b[0;36mget\u001b[1;34m(dataset, **kwargs)\u001b[0m\n\u001b[0;32m     46\u001b[0m         \u001b[1;32mif\u001b[0m \u001b[0mdataset_args\u001b[0m\u001b[1;33m[\u001b[0m\u001b[1;34m'column_index'\u001b[0m\u001b[1;33m]\u001b[0m \u001b[1;32mis\u001b[0m \u001b[1;32mnot\u001b[0m \u001b[1;32mNone\u001b[0m\u001b[1;33m:\u001b[0m\u001b[1;33m\u001b[0m\u001b[1;33m\u001b[0m\u001b[0m\n\u001b[0;32m     47\u001b[0m             \u001b[0mkwargs\u001b[0m\u001b[1;33m.\u001b[0m\u001b[0mupdate\u001b[0m\u001b[1;33m(\u001b[0m\u001b[1;33m{\u001b[0m\u001b[1;34m'column_index'\u001b[0m\u001b[1;33m:\u001b[0m \u001b[0mdataset_args\u001b[0m\u001b[1;33m[\u001b[0m\u001b[1;34m'column_index'\u001b[0m\u001b[1;33m]\u001b[0m\u001b[1;33m}\u001b[0m\u001b[1;33m)\u001b[0m\u001b[1;33m\u001b[0m\u001b[1;33m\u001b[0m\u001b[0m\n\u001b[1;32m---> 48\u001b[1;33m         \u001b[0mdata\u001b[0m \u001b[1;33m=\u001b[0m \u001b[0mDataset\u001b[0m\u001b[1;33m(\u001b[0m\u001b[0mdataset_args\u001b[0m\u001b[1;33m[\u001b[0m\u001b[1;34m'code'\u001b[0m\u001b[1;33m]\u001b[0m\u001b[1;33m)\u001b[0m\u001b[1;33m.\u001b[0m\u001b[0mdata\u001b[0m\u001b[1;33m(\u001b[0m\u001b[0mparams\u001b[0m\u001b[1;33m=\u001b[0m\u001b[0mkwargs\u001b[0m\u001b[1;33m,\u001b[0m \u001b[0mhandle_column_not_found\u001b[0m\u001b[1;33m=\u001b[0m\u001b[1;32mTrue\u001b[0m\u001b[1;33m)\u001b[0m\u001b[1;33m\u001b[0m\u001b[1;33m\u001b[0m\u001b[0m\n\u001b[0m\u001b[0;32m     49\u001b[0m     \u001b[1;31m# Array\u001b[0m\u001b[1;33m\u001b[0m\u001b[1;33m\u001b[0m\u001b[1;33m\u001b[0m\u001b[0m\n\u001b[0;32m     50\u001b[0m     \u001b[1;32melif\u001b[0m \u001b[0misinstance\u001b[0m\u001b[1;33m(\u001b[0m\u001b[0mdataset\u001b[0m\u001b[1;33m,\u001b[0m \u001b[0mlist\u001b[0m\u001b[1;33m)\u001b[0m\u001b[1;33m:\u001b[0m\u001b[1;33m\u001b[0m\u001b[1;33m\u001b[0m\u001b[0m\n",
      "\u001b[1;32m~\\Miniconda3\\envs\\venture_256\\lib\\site-packages\\quandl\\model\\dataset.py\u001b[0m in \u001b[0;36mdata\u001b[1;34m(self, **options)\u001b[0m\n\u001b[0;32m     45\u001b[0m         \u001b[0mupdated_options\u001b[0m \u001b[1;33m=\u001b[0m \u001b[0mUtil\u001b[0m\u001b[1;33m.\u001b[0m\u001b[0mmerge_options\u001b[0m\u001b[1;33m(\u001b[0m\u001b[1;34m'params'\u001b[0m\u001b[1;33m,\u001b[0m \u001b[0mparams\u001b[0m\u001b[1;33m,\u001b[0m \u001b[1;33m**\u001b[0m\u001b[0moptions\u001b[0m\u001b[1;33m)\u001b[0m\u001b[1;33m\u001b[0m\u001b[1;33m\u001b[0m\u001b[0m\n\u001b[0;32m     46\u001b[0m         \u001b[1;32mtry\u001b[0m\u001b[1;33m:\u001b[0m\u001b[1;33m\u001b[0m\u001b[1;33m\u001b[0m\u001b[0m\n\u001b[1;32m---> 47\u001b[1;33m             \u001b[1;32mreturn\u001b[0m \u001b[0mData\u001b[0m\u001b[1;33m.\u001b[0m\u001b[0mall\u001b[0m\u001b[1;33m(\u001b[0m\u001b[1;33m**\u001b[0m\u001b[0mupdated_options\u001b[0m\u001b[1;33m)\u001b[0m\u001b[1;33m\u001b[0m\u001b[1;33m\u001b[0m\u001b[0m\n\u001b[0m\u001b[0;32m     48\u001b[0m         \u001b[1;32mexcept\u001b[0m \u001b[0mNotFoundError\u001b[0m\u001b[1;33m:\u001b[0m\u001b[1;33m\u001b[0m\u001b[1;33m\u001b[0m\u001b[0m\n\u001b[0;32m     49\u001b[0m             \u001b[1;32mif\u001b[0m \u001b[0mhandle_not_found_error\u001b[0m\u001b[1;33m:\u001b[0m\u001b[1;33m\u001b[0m\u001b[1;33m\u001b[0m\u001b[0m\n",
      "\u001b[1;32m~\\Miniconda3\\envs\\venture_256\\lib\\site-packages\\quandl\\operations\\list.py\u001b[0m in \u001b[0;36mall\u001b[1;34m(cls, **options)\u001b[0m\n\u001b[0;32m     13\u001b[0m             \u001b[0moptions\u001b[0m\u001b[1;33m[\u001b[0m\u001b[1;34m'params'\u001b[0m\u001b[1;33m]\u001b[0m \u001b[1;33m=\u001b[0m \u001b[1;33m{\u001b[0m\u001b[1;33m}\u001b[0m\u001b[1;33m\u001b[0m\u001b[1;33m\u001b[0m\u001b[0m\n\u001b[0;32m     14\u001b[0m         \u001b[0mpath\u001b[0m \u001b[1;33m=\u001b[0m \u001b[0mUtil\u001b[0m\u001b[1;33m.\u001b[0m\u001b[0mconstructed_path\u001b[0m\u001b[1;33m(\u001b[0m\u001b[0mcls\u001b[0m\u001b[1;33m.\u001b[0m\u001b[0mlist_path\u001b[0m\u001b[1;33m(\u001b[0m\u001b[1;33m)\u001b[0m\u001b[1;33m,\u001b[0m \u001b[0moptions\u001b[0m\u001b[1;33m[\u001b[0m\u001b[1;34m'params'\u001b[0m\u001b[1;33m]\u001b[0m\u001b[1;33m)\u001b[0m\u001b[1;33m\u001b[0m\u001b[1;33m\u001b[0m\u001b[0m\n\u001b[1;32m---> 15\u001b[1;33m         \u001b[0mr\u001b[0m \u001b[1;33m=\u001b[0m \u001b[0mConnection\u001b[0m\u001b[1;33m.\u001b[0m\u001b[0mrequest\u001b[0m\u001b[1;33m(\u001b[0m\u001b[1;34m'get'\u001b[0m\u001b[1;33m,\u001b[0m \u001b[0mpath\u001b[0m\u001b[1;33m,\u001b[0m \u001b[1;33m**\u001b[0m\u001b[0moptions\u001b[0m\u001b[1;33m)\u001b[0m\u001b[1;33m\u001b[0m\u001b[1;33m\u001b[0m\u001b[0m\n\u001b[0m\u001b[0;32m     16\u001b[0m         \u001b[0mresponse_data\u001b[0m \u001b[1;33m=\u001b[0m \u001b[0mr\u001b[0m\u001b[1;33m.\u001b[0m\u001b[0mjson\u001b[0m\u001b[1;33m(\u001b[0m\u001b[1;33m)\u001b[0m\u001b[1;33m\u001b[0m\u001b[1;33m\u001b[0m\u001b[0m\n\u001b[0;32m     17\u001b[0m         \u001b[0mUtil\u001b[0m\u001b[1;33m.\u001b[0m\u001b[0mconvert_to_dates\u001b[0m\u001b[1;33m(\u001b[0m\u001b[0mresponse_data\u001b[0m\u001b[1;33m)\u001b[0m\u001b[1;33m\u001b[0m\u001b[1;33m\u001b[0m\u001b[0m\n",
      "\u001b[1;32m~\\Miniconda3\\envs\\venture_256\\lib\\site-packages\\quandl\\connection.py\u001b[0m in \u001b[0;36mrequest\u001b[1;34m(cls, http_verb, url, **options)\u001b[0m\n\u001b[0;32m     36\u001b[0m         \u001b[0mabs_url\u001b[0m \u001b[1;33m=\u001b[0m \u001b[1;34m'%s/%s'\u001b[0m \u001b[1;33m%\u001b[0m \u001b[1;33m(\u001b[0m\u001b[0mApiConfig\u001b[0m\u001b[1;33m.\u001b[0m\u001b[0mapi_base\u001b[0m\u001b[1;33m,\u001b[0m \u001b[0murl\u001b[0m\u001b[1;33m)\u001b[0m\u001b[1;33m\u001b[0m\u001b[1;33m\u001b[0m\u001b[0m\n\u001b[0;32m     37\u001b[0m \u001b[1;33m\u001b[0m\u001b[0m\n\u001b[1;32m---> 38\u001b[1;33m         \u001b[1;32mreturn\u001b[0m \u001b[0mcls\u001b[0m\u001b[1;33m.\u001b[0m\u001b[0mexecute_request\u001b[0m\u001b[1;33m(\u001b[0m\u001b[0mhttp_verb\u001b[0m\u001b[1;33m,\u001b[0m \u001b[0mabs_url\u001b[0m\u001b[1;33m,\u001b[0m \u001b[1;33m**\u001b[0m\u001b[0moptions\u001b[0m\u001b[1;33m)\u001b[0m\u001b[1;33m\u001b[0m\u001b[1;33m\u001b[0m\u001b[0m\n\u001b[0m\u001b[0;32m     39\u001b[0m \u001b[1;33m\u001b[0m\u001b[0m\n\u001b[0;32m     40\u001b[0m     \u001b[1;33m@\u001b[0m\u001b[0mclassmethod\u001b[0m\u001b[1;33m\u001b[0m\u001b[1;33m\u001b[0m\u001b[0m\n",
      "\u001b[1;32m~\\Miniconda3\\envs\\venture_256\\lib\\site-packages\\quandl\\connection.py\u001b[0m in \u001b[0;36mexecute_request\u001b[1;34m(cls, http_verb, url, **options)\u001b[0m\n\u001b[0;32m     48\u001b[0m                                        **options)\n\u001b[0;32m     49\u001b[0m             \u001b[1;32mif\u001b[0m \u001b[0mresponse\u001b[0m\u001b[1;33m.\u001b[0m\u001b[0mstatus_code\u001b[0m \u001b[1;33m<\u001b[0m \u001b[1;36m200\u001b[0m \u001b[1;32mor\u001b[0m \u001b[0mresponse\u001b[0m\u001b[1;33m.\u001b[0m\u001b[0mstatus_code\u001b[0m \u001b[1;33m>=\u001b[0m \u001b[1;36m300\u001b[0m\u001b[1;33m:\u001b[0m\u001b[1;33m\u001b[0m\u001b[1;33m\u001b[0m\u001b[0m\n\u001b[1;32m---> 50\u001b[1;33m                 \u001b[0mcls\u001b[0m\u001b[1;33m.\u001b[0m\u001b[0mhandle_api_error\u001b[0m\u001b[1;33m(\u001b[0m\u001b[0mresponse\u001b[0m\u001b[1;33m)\u001b[0m\u001b[1;33m\u001b[0m\u001b[1;33m\u001b[0m\u001b[0m\n\u001b[0m\u001b[0;32m     51\u001b[0m             \u001b[1;32melse\u001b[0m\u001b[1;33m:\u001b[0m\u001b[1;33m\u001b[0m\u001b[1;33m\u001b[0m\u001b[0m\n\u001b[0;32m     52\u001b[0m                 \u001b[1;32mreturn\u001b[0m \u001b[0mresponse\u001b[0m\u001b[1;33m\u001b[0m\u001b[1;33m\u001b[0m\u001b[0m\n",
      "\u001b[1;32m~\\Miniconda3\\envs\\venture_256\\lib\\site-packages\\quandl\\connection.py\u001b[0m in \u001b[0;36mhandle_api_error\u001b[1;34m(cls, resp)\u001b[0m\n\u001b[0;32m    112\u001b[0m         \u001b[0mklass\u001b[0m \u001b[1;33m=\u001b[0m \u001b[0md_klass\u001b[0m\u001b[1;33m.\u001b[0m\u001b[0mget\u001b[0m\u001b[1;33m(\u001b[0m\u001b[0mcode_letter\u001b[0m\u001b[1;33m,\u001b[0m \u001b[0mQuandlError\u001b[0m\u001b[1;33m)\u001b[0m\u001b[1;33m\u001b[0m\u001b[1;33m\u001b[0m\u001b[0m\n\u001b[0;32m    113\u001b[0m \u001b[1;33m\u001b[0m\u001b[0m\n\u001b[1;32m--> 114\u001b[1;33m         \u001b[1;32mraise\u001b[0m \u001b[0mklass\u001b[0m\u001b[1;33m(\u001b[0m\u001b[0mmessage\u001b[0m\u001b[1;33m,\u001b[0m \u001b[0mresp\u001b[0m\u001b[1;33m.\u001b[0m\u001b[0mstatus_code\u001b[0m\u001b[1;33m,\u001b[0m \u001b[0mresp\u001b[0m\u001b[1;33m.\u001b[0m\u001b[0mtext\u001b[0m\u001b[1;33m,\u001b[0m \u001b[0mresp\u001b[0m\u001b[1;33m.\u001b[0m\u001b[0mheaders\u001b[0m\u001b[1;33m,\u001b[0m \u001b[0mcode\u001b[0m\u001b[1;33m)\u001b[0m\u001b[1;33m\u001b[0m\u001b[1;33m\u001b[0m\u001b[0m\n\u001b[0m",
      "\u001b[1;31mLimitExceededError\u001b[0m: (Status 429) (Quandl Error QELx01) You have exceeded the anonymous user limit of 50 calls per day. To make more calls today, please register for a free Quandl account and then include your API key with your requests."
     ]
    }
   ],
   "source": [
    "for code in [\"BCHAIN/MIREV\",\"BCHAIN/DIFF\",\"BCHAIN/HRATE\",\"BCHAIN/TOTBC\",\"BCHAIN/TOUTV\"]:\n",
    "    old_data_df = pd.read_csv('data/Quandl/'+ code.replace('/','_') + '.csv', usecols=['Date'])\n",
    "    final_timestamp = old_data_df.astype('datetime64').values[-1] + pd.Timedelta(1, unit='d')\n",
    "    start = str(final_timestamp[0])[:10]\n",
    "    data_df = quandl.get(code, start_date=start)\n",
    "    # Append    \n",
    "    data_df.to_csv('data/Quandl/'+ code.replace('/','_') + '.csv', mode='a', header=False)"
   ]
  },
  {
   "cell_type": "markdown",
   "metadata": {
    "Collapsed": "true"
   },
   "source": [
    "# Glassnode"
   ]
  },
  {
   "cell_type": "markdown",
   "metadata": {
    "Collapsed": "false"
   },
   "source": [
    "## Get historical"
   ]
  },
  {
   "cell_type": "code",
   "execution_count": 85,
   "metadata": {
    "Collapsed": "false"
   },
   "outputs": [],
   "source": [
    "variables = ['sopr', 'sopr_adjusted', 'cdd', 'average_dormancy', 'average_dormancy_supply_adjusted']\n",
    "for var in variables:\n",
    "    r = requests.get('https://api.glassnode.com/v1/metrics/indicators/'+ var + '?a=btc&api_key=022517a3-d79c-4510-9063-8d83780bb927')\n",
    "    r.raise_for_status()\n",
    "    json_file = r.json()\n",
    "    pd.DataFrame(json_file).to_csv('data/Glassnode/' + var + '.csv', index=False)"
   ]
  },
  {
   "cell_type": "markdown",
   "metadata": {
    "Collapsed": "false"
   },
   "source": [
    "## Update Data"
   ]
  },
  {
   "cell_type": "code",
   "execution_count": 14,
   "metadata": {
    "Collapsed": "false"
   },
   "outputs": [],
   "source": [
    "variables = ['sopr', 'sopr_adjusted', 'cdd', 'average_dormancy', 'average_dormancy_supply_adjusted']\n",
    "for var in variables:\n",
    "    old_data_df = pd.read_csv('data/Glassnode/' + var + '.csv', usecols=['t'])\n",
    "    final_timestamp = old_data_df.values[-1][0]\n",
    "    # Filter from the time of 1 hour from last timestamp\n",
    "    r = requests.get('https://api.glassnode.com/v1/metrics/indicators/'+ var + '?a=btc&s='+ str(final_timestamp+86400) + '&api_key=022517a3-d79c-4510-9063-8d83780bb927')\n",
    "    r.raise_for_status()\n",
    "    json_file = r.json()\n",
    "    if json_file:\n",
    "        new_timestamp = json_file[0]['t']\n",
    "        pd.DataFrame(json_file).to_csv('data/Glassnode/' + var + '.csv', mode='a', header=False, index=False)"
   ]
  },
  {
   "cell_type": "code",
   "execution_count": 82,
   "metadata": {
    "Collapsed": "false"
   },
   "outputs": [],
   "source": [
    "def upload_file(file_name, bucket, object_name=None):\n",
    "    \"\"\"Upload a file to an S3 bucket\n",
    "\n",
    "    :param file_name: File to upload\n",
    "    :param bucket: Bucket to upload to\n",
    "    :param object_name: S3 object name. If not specified then file_name is used\n",
    "    :return: True if file was uploaded, else False\n",
    "    \"\"\"\n",
    "\n",
    "    # If S3 object_name was not specified, use file_name\n",
    "    if object_name is None:\n",
    "        object_name = file_name\n",
    "\n",
    "    # Upload the file\n",
    "    s3_client = boto3.client('s3')\n",
    "    try:\n",
    "        response = s3_client.upload_file(file_name, bucket, object_name)\n",
    "    except ClientError as e:\n",
    "        logging.error(e)\n",
    "        return False\n",
    "    return True"
   ]
  },
  {
   "cell_type": "code",
   "execution_count": 83,
   "metadata": {
    "Collapsed": "false"
   },
   "outputs": [
    {
     "name": "stdout",
     "output_type": "stream",
     "text": [
      "your-s3-bucket-name-deeloon\n"
     ]
    }
   ],
   "source": [
    "# Let's use Amazon S3\n",
    "s3 = boto3.resource('s3')\n",
    "# Print out bucket names\n",
    "for bucket in s3.buckets.all():\n",
    "    print(bucket.name)"
   ]
  },
  {
   "cell_type": "code",
   "execution_count": 84,
   "metadata": {
    "Collapsed": "false"
   },
   "outputs": [
    {
     "data": {
      "text/plain": [
       "s3.Object(bucket_name='your-s3-bucket-name-deeloon', key='data.json')"
      ]
     },
     "execution_count": 84,
     "metadata": {},
     "output_type": "execute_result"
    }
   ],
   "source": [
    "data = open('data.json', 'rb')\n",
    "s3.Bucket('your-s3-bucket-name-deeloon').put_object(Key='data.json', Body=data)"
   ]
  },
  {
   "cell_type": "code",
   "execution_count": null,
   "metadata": {
    "Collapsed": "false"
   },
   "outputs": [],
   "source": []
  }
 ],
 "metadata": {
  "kernelspec": {
   "display_name": "Python 3",
   "language": "python",
   "name": "python3"
  },
  "language_info": {
   "codemirror_mode": {
    "name": "ipython",
    "version": 3
   },
   "file_extension": ".py",
   "mimetype": "text/x-python",
   "name": "python",
   "nbconvert_exporter": "python",
   "pygments_lexer": "ipython3",
   "version": "3.7.3"
  },
  "pycharm": {
   "stem_cell": {
    "cell_type": "raw",
    "metadata": {
     "collapsed": false
    },
    "source": []
   }
  }
 },
 "nbformat": 4,
 "nbformat_minor": 4
}
